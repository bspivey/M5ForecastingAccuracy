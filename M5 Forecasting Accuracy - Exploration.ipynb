{
 "cells": [
  {
   "cell_type": "code",
   "execution_count": 1,
   "id": "97b7f134",
   "metadata": {
    "scrolled": true
   },
   "outputs": [],
   "source": [
    "import numpy as np\n",
    "import scipy as sp\n",
    "import pandas as pd\n",
    "import matplotlib.pyplot as plt\n",
    "import plotly.express as px\n",
    "import sys\n",
    "from statsmodels.tsa.deterministic import CalendarFourier, DeterministicProcess"
   ]
  },
  {
   "cell_type": "markdown",
   "id": "21009621",
   "metadata": {},
   "source": [
    "### Read and view data tables"
   ]
  },
  {
   "cell_type": "code",
   "execution_count": 2,
   "id": "383c9f26",
   "metadata": {},
   "outputs": [
    {
     "data": {
      "text/plain": [
       "'\\nFilenames:\\ncalendar.csv\\nsales_train_evaluation.csv\\nsales_train_validation.csv\\nsales_submission.csv\\nsell_prices.csv\\n'"
      ]
     },
     "execution_count": 2,
     "metadata": {},
     "output_type": "execute_result"
    }
   ],
   "source": [
    "\"\"\"\n",
    "Filenames:\n",
    "calendar.csv\n",
    "sales_train_evaluation.csv\n",
    "sales_train_validation.csv\n",
    "sales_submission.csv\n",
    "sell_prices.csv\n",
    "\"\"\""
   ]
  },
  {
   "cell_type": "code",
   "execution_count": 3,
   "id": "0eb643f9",
   "metadata": {},
   "outputs": [],
   "source": [
    "folder = 'm5-forecasting-accuracy/'\n",
    "df_calendar = pd.read_csv(folder + 'calendar.csv')\n",
    "df_sales_train_validation = pd.read_csv(folder + 'sales_train_validation.csv')\n",
    "df_sell_prices = pd.read_csv(folder + 'sell_prices.csv')"
   ]
  },
  {
   "cell_type": "code",
   "execution_count": 4,
   "id": "7e8624d4",
   "metadata": {},
   "outputs": [
    {
     "name": "stdout",
     "output_type": "stream",
     "text": [
      "         date  wm_yr_wk    weekday  wday  month  year    d event_name_1  \\\n",
      "0  2011-01-29     11101   Saturday     1      1  2011  d_1          NaN   \n",
      "1  2011-01-30     11101     Sunday     2      1  2011  d_2          NaN   \n",
      "2  2011-01-31     11101     Monday     3      1  2011  d_3          NaN   \n",
      "3  2011-02-01     11101    Tuesday     4      2  2011  d_4          NaN   \n",
      "4  2011-02-02     11101  Wednesday     5      2  2011  d_5          NaN   \n",
      "\n",
      "  event_type_1 event_name_2 event_type_2  snap_CA  snap_TX  snap_WI  \n",
      "0          NaN          NaN          NaN        0        0        0  \n",
      "1          NaN          NaN          NaN        0        0        0  \n",
      "2          NaN          NaN          NaN        0        0        0  \n",
      "3          NaN          NaN          NaN        1        1        0  \n",
      "4          NaN          NaN          NaN        1        0        1  \n",
      "           wm_yr_wk         wday        month         year      snap_CA  \\\n",
      "count   1969.000000  1969.000000  1969.000000  1969.000000  1969.000000   \n",
      "mean   11347.086338     3.997461     6.325546  2013.288471     0.330117   \n",
      "std      155.277043     2.001141     3.416864     1.580198     0.470374   \n",
      "min    11101.000000     1.000000     1.000000  2011.000000     0.000000   \n",
      "25%    11219.000000     2.000000     3.000000  2012.000000     0.000000   \n",
      "50%    11337.000000     4.000000     6.000000  2013.000000     0.000000   \n",
      "75%    11502.000000     6.000000     9.000000  2015.000000     1.000000   \n",
      "max    11621.000000     7.000000    12.000000  2016.000000     1.000000   \n",
      "\n",
      "           snap_TX      snap_WI  \n",
      "count  1969.000000  1969.000000  \n",
      "mean      0.330117     0.330117  \n",
      "std       0.470374     0.470374  \n",
      "min       0.000000     0.000000  \n",
      "25%       0.000000     0.000000  \n",
      "50%       0.000000     0.000000  \n",
      "75%       1.000000     1.000000  \n",
      "max       1.000000     1.000000  \n",
      "[nan 'SuperBowl' 'ValentinesDay' 'PresidentsDay' 'LentStart' 'LentWeek2'\n",
      " 'StPatricksDay' 'Purim End' 'OrthodoxEaster' 'Pesach End' 'Cinco De Mayo'\n",
      " \"Mother's day\" 'MemorialDay' 'NBAFinalsStart' 'NBAFinalsEnd'\n",
      " \"Father's day\" 'IndependenceDay' 'Ramadan starts' 'Eid al-Fitr'\n",
      " 'LaborDay' 'ColumbusDay' 'Halloween' 'EidAlAdha' 'VeteransDay'\n",
      " 'Thanksgiving' 'Christmas' 'Chanukah End' 'NewYear' 'OrthodoxChristmas'\n",
      " 'MartinLutherKingDay' 'Easter']\n",
      "[nan 'Sporting' 'Cultural' 'National' 'Religious']\n",
      "[nan 'Easter' 'Cinco De Mayo' 'OrthodoxEaster' \"Father's day\"]\n",
      "[nan 'Cultural' 'Religious']\n",
      "[11101 11102 11103 11104 11105 11106 11107 11108 11109 11110 11111 11112\n",
      " 11113 11114 11115 11116 11117 11118 11119 11120 11121 11122 11123 11124\n",
      " 11125 11126 11127 11128 11129 11130 11131 11132 11133 11134 11135 11136\n",
      " 11137 11138 11139 11140 11141 11142 11143 11144 11145 11146 11147 11148\n",
      " 11149 11150 11151 11152 11201 11202 11203 11204 11205 11206 11207 11208\n",
      " 11209 11210 11211 11212 11213 11214 11215 11216 11217 11218 11219 11220\n",
      " 11221 11222 11223 11224 11225 11226 11227 11228 11229 11230 11231 11232\n",
      " 11233 11234 11235 11236 11237 11238 11239 11240 11241 11242 11243 11244\n",
      " 11245 11246 11247 11248 11249 11250 11251 11252 11301 11302 11303 11304\n",
      " 11305 11306 11307 11308 11309 11310 11311 11312 11313 11314 11315 11316\n",
      " 11317 11318 11319 11320 11321 11322 11323 11324 11325 11326 11327 11328\n",
      " 11329 11330 11331 11332 11333 11334 11335 11336 11337 11338 11339 11340\n",
      " 11341 11342 11343 11344 11345 11346 11347 11348 11349 11350 11351 11352\n",
      " 11353 11401 11402 11403 11404 11405 11406 11407 11408 11409 11410 11411\n",
      " 11412 11413 11414 11415 11416 11417 11418 11419 11420 11421 11422 11423\n",
      " 11424 11425 11426 11427 11428 11429 11430 11431 11432 11433 11434 11435\n",
      " 11436 11437 11438 11439 11440 11441 11442 11443 11444 11445 11446 11447\n",
      " 11448 11449 11450 11451 11452 11501 11502 11503 11504 11505 11506 11507\n",
      " 11508 11509 11510 11511 11512 11513 11514 11515 11516 11517 11518 11519\n",
      " 11520 11521 11522 11523 11524 11525 11526 11527 11528 11529 11530 11531\n",
      " 11532 11533 11534 11535 11536 11537 11538 11539 11540 11541 11542 11543\n",
      " 11544 11545 11546 11547 11548 11549 11550 11551 11552 11601 11602 11603\n",
      " 11604 11605 11606 11607 11608 11609 11610 11611 11612 11613 11614 11615\n",
      " 11616 11617 11618 11619 11620 11621]\n"
     ]
    }
   ],
   "source": [
    "\"\"\"\n",
    "Comments:\n",
    "- Use table to link dates to events\n",
    "- Ignore 'snap_' columns\n",
    "\"\"\"\n",
    "\n",
    "print(df_calendar.head(5))\n",
    "print(df_calendar.describe())\n",
    "print(df_calendar.event_name_1.unique())\n",
    "print(df_calendar.event_type_1.unique())\n",
    "print(df_calendar.event_name_2.unique())\n",
    "print(df_calendar.event_type_2.unique())\n",
    "print(df_calendar.wm_yr_wk.unique())"
   ]
  },
  {
   "cell_type": "code",
   "execution_count": 5,
   "id": "bef03259",
   "metadata": {},
   "outputs": [
    {
     "name": "stdout",
     "output_type": "stream",
     "text": [
      "                              id        item_id    dept_id   cat_id store_id  \\\n",
      "0  HOBBIES_1_001_CA_1_validation  HOBBIES_1_001  HOBBIES_1  HOBBIES     CA_1   \n",
      "1  HOBBIES_1_002_CA_1_validation  HOBBIES_1_002  HOBBIES_1  HOBBIES     CA_1   \n",
      "2  HOBBIES_1_003_CA_1_validation  HOBBIES_1_003  HOBBIES_1  HOBBIES     CA_1   \n",
      "3  HOBBIES_1_004_CA_1_validation  HOBBIES_1_004  HOBBIES_1  HOBBIES     CA_1   \n",
      "4  HOBBIES_1_005_CA_1_validation  HOBBIES_1_005  HOBBIES_1  HOBBIES     CA_1   \n",
      "\n",
      "  state_id  d_1  d_2  d_3  d_4  ...  d_1904  d_1905  d_1906  d_1907  d_1908  \\\n",
      "0       CA    0    0    0    0  ...       1       3       0       1       1   \n",
      "1       CA    0    0    0    0  ...       0       0       0       0       0   \n",
      "2       CA    0    0    0    0  ...       2       1       2       1       1   \n",
      "3       CA    0    0    0    0  ...       1       0       5       4       1   \n",
      "4       CA    0    0    0    0  ...       2       1       1       0       1   \n",
      "\n",
      "   d_1909  d_1910  d_1911  d_1912  d_1913  \n",
      "0       1       3       0       1       1  \n",
      "1       1       0       0       0       0  \n",
      "2       1       0       1       1       1  \n",
      "3       0       1       3       7       2  \n",
      "4       1       2       2       2       4  \n",
      "\n",
      "[5 rows x 1919 columns]\n",
      "['HOBBIES_1' 'HOBBIES_2' 'HOUSEHOLD_1' 'HOUSEHOLD_2' 'FOODS_1' 'FOODS_2'\n",
      " 'FOODS_3']\n",
      "['HOBBIES_1_001' 'HOBBIES_1_002' 'HOBBIES_1_003' ... 'FOODS_3_825'\n",
      " 'FOODS_3_826' 'FOODS_3_827']\n"
     ]
    }
   ],
   "source": [
    "print(df_sales_train_validation.head(5))\n",
    "print(df_sales_train_validation.dept_id.unique())\n",
    "print(df_sales_train_validation.item_id.unique())"
   ]
  },
  {
   "cell_type": "code",
   "execution_count": 6,
   "id": "1a6764a4",
   "metadata": {},
   "outputs": [
    {
     "name": "stdout",
     "output_type": "stream",
     "text": [
      "  store_id        item_id  wm_yr_wk  sell_price\n",
      "0     CA_1  HOBBIES_1_001     11325        9.58\n",
      "1     CA_1  HOBBIES_1_001     11326        9.58\n",
      "2     CA_1  HOBBIES_1_001     11327        8.26\n",
      "3     CA_1  HOBBIES_1_001     11328        8.26\n",
      "4     CA_1  HOBBIES_1_001     11329        8.26\n",
      "           wm_yr_wk    sell_price\n",
      "count  6.841121e+06  6.841121e+06\n",
      "mean   1.138294e+04  4.410952e+00\n",
      "std    1.486100e+02  3.408814e+00\n",
      "min    1.110100e+04  1.000000e-02\n",
      "25%    1.124700e+04  2.180000e+00\n",
      "50%    1.141100e+04  3.470000e+00\n",
      "75%    1.151700e+04  5.840000e+00\n",
      "max    1.162100e+04  1.073200e+02\n",
      "1004032223\n"
     ]
    }
   ],
   "source": [
    "print(df_sell_prices.head(5))\n",
    "print(df_sell_prices.describe())\n",
    "print(sys.getsizeof(df_sell_prices))"
   ]
  },
  {
   "cell_type": "markdown",
   "id": "f08a615e",
   "metadata": {},
   "source": [
    "### Combine into one table"
   ]
  },
  {
   "cell_type": "code",
   "execution_count": 7,
   "id": "eb763c76",
   "metadata": {},
   "outputs": [
    {
     "name": "stderr",
     "output_type": "stream",
     "text": [
      "ERROR:root:Internal Python error in the inspect module.\n",
      "Below is the traceback from this internal error.\n",
      "\n"
     ]
    },
    {
     "name": "stdout",
     "output_type": "stream",
     "text": [
      "Traceback (most recent call last):\n",
      "  File \"/home/ben/anaconda3/envs/main37/lib/python3.7/site-packages/IPython/core/interactiveshell.py\", line 3437, in run_code\n",
      "    exec(code_obj, self.user_global_ns, self.user_ns)\n",
      "  File \"<ipython-input-7-a48913a6d8db>\", line 1, in <module>\n",
      "    df_intermediate = df_calendar.merge(df_sell_prices, how='left', on='wm_yr_wk')\n",
      "  File \"/home/ben/anaconda3/envs/main37/lib/python3.7/site-packages/pandas/core/frame.py\", line 7952, in merge\n",
      "    validate=validate,\n",
      "  File \"/home/ben/anaconda3/envs/main37/lib/python3.7/site-packages/pandas/core/reshape/merge.py\", line 89, in merge\n",
      "    return op.get_result()\n",
      "  File \"/home/ben/anaconda3/envs/main37/lib/python3.7/site-packages/pandas/core/reshape/merge.py\", line 681, in get_result\n",
      "    copy=self.copy,\n",
      "  File \"/home/ben/anaconda3/envs/main37/lib/python3.7/site-packages/pandas/core/internals/concat.py\", line 79, in concatenate_block_managers\n",
      "    _concatenate_join_units(join_units, concat_axis, copy=copy,),\n",
      "  File \"/home/ben/anaconda3/envs/main37/lib/python3.7/site-packages/pandas/core/internals/concat.py\", line 318, in _concatenate_join_units\n",
      "    for ju in join_units\n",
      "  File \"/home/ben/anaconda3/envs/main37/lib/python3.7/site-packages/pandas/core/internals/concat.py\", line 318, in <listcomp>\n",
      "    for ju in join_units\n",
      "  File \"/home/ben/anaconda3/envs/main37/lib/python3.7/site-packages/pandas/core/internals/concat.py\", line 301, in get_reindexed_values\n",
      "    values = algos.take_nd(values, indexer, axis=ax, fill_value=fill_value)\n",
      "  File \"/home/ben/anaconda3/envs/main37/lib/python3.7/site-packages/pandas/core/algorithms.py\", line 1683, in take_nd\n",
      "    func(arr, indexer, out, fill_value)\n",
      "KeyboardInterrupt\n",
      "\n",
      "During handling of the above exception, another exception occurred:\n",
      "\n",
      "Traceback (most recent call last):\n",
      "  File \"/home/ben/anaconda3/envs/main37/lib/python3.7/site-packages/IPython/core/interactiveshell.py\", line 2061, in showtraceback\n",
      "    stb = value._render_traceback_()\n",
      "AttributeError: 'KeyboardInterrupt' object has no attribute '_render_traceback_'\n",
      "\n",
      "During handling of the above exception, another exception occurred:\n",
      "\n",
      "Traceback (most recent call last):\n",
      "  File \"/home/ben/anaconda3/envs/main37/lib/python3.7/site-packages/IPython/core/ultratb.py\", line 1101, in get_records\n",
      "    return _fixed_getinnerframes(etb, number_of_lines_of_context, tb_offset)\n",
      "  File \"/home/ben/anaconda3/envs/main37/lib/python3.7/site-packages/IPython/core/ultratb.py\", line 248, in wrapped\n",
      "    return f(*args, **kwargs)\n",
      "  File \"/home/ben/anaconda3/envs/main37/lib/python3.7/site-packages/IPython/core/ultratb.py\", line 281, in _fixed_getinnerframes\n",
      "    records = fix_frame_records_filenames(inspect.getinnerframes(etb, context))\n",
      "  File \"/home/ben/anaconda3/envs/main37/lib/python3.7/inspect.py\", line 1502, in getinnerframes\n",
      "    frameinfo = (tb.tb_frame,) + getframeinfo(tb, context)\n",
      "  File \"/home/ben/anaconda3/envs/main37/lib/python3.7/inspect.py\", line 1460, in getframeinfo\n",
      "    filename = getsourcefile(frame) or getfile(frame)\n",
      "  File \"/home/ben/anaconda3/envs/main37/lib/python3.7/inspect.py\", line 696, in getsourcefile\n",
      "    if getattr(getmodule(object, filename), '__loader__', None) is not None:\n",
      "  File \"/home/ben/anaconda3/envs/main37/lib/python3.7/inspect.py\", line 739, in getmodule\n",
      "    f = getabsfile(module)\n",
      "  File \"/home/ben/anaconda3/envs/main37/lib/python3.7/inspect.py\", line 708, in getabsfile\n",
      "    _filename = getsourcefile(object) or getfile(object)\n",
      "  File \"/home/ben/anaconda3/envs/main37/lib/python3.7/inspect.py\", line 693, in getsourcefile\n",
      "    if os.path.exists(filename):\n",
      "  File \"/home/ben/anaconda3/envs/main37/lib/python3.7/genericpath.py\", line 19, in exists\n",
      "    os.stat(path)\n",
      "KeyboardInterrupt\n"
     ]
    },
    {
     "ename": "TypeError",
     "evalue": "object of type 'NoneType' has no len()",
     "output_type": "error",
     "traceback": [
      "\u001b[0;31m---------------------------------------------------------------------------\u001b[0m",
      "\u001b[0;31mKeyboardInterrupt\u001b[0m                         Traceback (most recent call last)",
      "    \u001b[0;31m[... skipping hidden 1 frame]\u001b[0m\n",
      "\u001b[0;32m<ipython-input-7-a48913a6d8db>\u001b[0m in \u001b[0;36m<module>\u001b[0;34m\u001b[0m\n\u001b[0;32m----> 1\u001b[0;31m \u001b[0mdf_intermediate\u001b[0m \u001b[0;34m=\u001b[0m \u001b[0mdf_calendar\u001b[0m\u001b[0;34m.\u001b[0m\u001b[0mmerge\u001b[0m\u001b[0;34m(\u001b[0m\u001b[0mdf_sell_prices\u001b[0m\u001b[0;34m,\u001b[0m \u001b[0mhow\u001b[0m\u001b[0;34m=\u001b[0m\u001b[0;34m'left'\u001b[0m\u001b[0;34m,\u001b[0m \u001b[0mon\u001b[0m\u001b[0;34m=\u001b[0m\u001b[0;34m'wm_yr_wk'\u001b[0m\u001b[0;34m)\u001b[0m\u001b[0;34m\u001b[0m\u001b[0;34m\u001b[0m\u001b[0m\n\u001b[0m",
      "\u001b[0;32m~/anaconda3/envs/main37/lib/python3.7/site-packages/pandas/core/frame.py\u001b[0m in \u001b[0;36mmerge\u001b[0;34m(self, right, how, on, left_on, right_on, left_index, right_index, sort, suffixes, copy, indicator, validate)\u001b[0m\n\u001b[1;32m   7951\u001b[0m             \u001b[0mindicator\u001b[0m\u001b[0;34m=\u001b[0m\u001b[0mindicator\u001b[0m\u001b[0;34m,\u001b[0m\u001b[0;34m\u001b[0m\u001b[0;34m\u001b[0m\u001b[0m\n\u001b[0;32m-> 7952\u001b[0;31m             \u001b[0mvalidate\u001b[0m\u001b[0;34m=\u001b[0m\u001b[0mvalidate\u001b[0m\u001b[0;34m,\u001b[0m\u001b[0;34m\u001b[0m\u001b[0;34m\u001b[0m\u001b[0m\n\u001b[0m\u001b[1;32m   7953\u001b[0m         )\n",
      "\u001b[0;32m~/anaconda3/envs/main37/lib/python3.7/site-packages/pandas/core/reshape/merge.py\u001b[0m in \u001b[0;36mmerge\u001b[0;34m(left, right, how, on, left_on, right_on, left_index, right_index, sort, suffixes, copy, indicator, validate)\u001b[0m\n\u001b[1;32m     88\u001b[0m     )\n\u001b[0;32m---> 89\u001b[0;31m     \u001b[0;32mreturn\u001b[0m \u001b[0mop\u001b[0m\u001b[0;34m.\u001b[0m\u001b[0mget_result\u001b[0m\u001b[0;34m(\u001b[0m\u001b[0;34m)\u001b[0m\u001b[0;34m\u001b[0m\u001b[0;34m\u001b[0m\u001b[0m\n\u001b[0m\u001b[1;32m     90\u001b[0m \u001b[0;34m\u001b[0m\u001b[0m\n",
      "\u001b[0;32m~/anaconda3/envs/main37/lib/python3.7/site-packages/pandas/core/reshape/merge.py\u001b[0m in \u001b[0;36mget_result\u001b[0;34m(self)\u001b[0m\n\u001b[1;32m    680\u001b[0m             \u001b[0mconcat_axis\u001b[0m\u001b[0;34m=\u001b[0m\u001b[0;36m0\u001b[0m\u001b[0;34m,\u001b[0m\u001b[0;34m\u001b[0m\u001b[0;34m\u001b[0m\u001b[0m\n\u001b[0;32m--> 681\u001b[0;31m             \u001b[0mcopy\u001b[0m\u001b[0;34m=\u001b[0m\u001b[0mself\u001b[0m\u001b[0;34m.\u001b[0m\u001b[0mcopy\u001b[0m\u001b[0;34m,\u001b[0m\u001b[0;34m\u001b[0m\u001b[0;34m\u001b[0m\u001b[0m\n\u001b[0m\u001b[1;32m    682\u001b[0m         )\n",
      "\u001b[0;32m~/anaconda3/envs/main37/lib/python3.7/site-packages/pandas/core/internals/concat.py\u001b[0m in \u001b[0;36mconcatenate_block_managers\u001b[0;34m(mgrs_indexers, axes, concat_axis, copy)\u001b[0m\n\u001b[1;32m     78\u001b[0m             b = make_block(\n\u001b[0;32m---> 79\u001b[0;31m                 \u001b[0m_concatenate_join_units\u001b[0m\u001b[0;34m(\u001b[0m\u001b[0mjoin_units\u001b[0m\u001b[0;34m,\u001b[0m \u001b[0mconcat_axis\u001b[0m\u001b[0;34m,\u001b[0m \u001b[0mcopy\u001b[0m\u001b[0;34m=\u001b[0m\u001b[0mcopy\u001b[0m\u001b[0;34m,\u001b[0m\u001b[0;34m)\u001b[0m\u001b[0;34m,\u001b[0m\u001b[0;34m\u001b[0m\u001b[0;34m\u001b[0m\u001b[0m\n\u001b[0m\u001b[1;32m     80\u001b[0m                 \u001b[0mplacement\u001b[0m\u001b[0;34m=\u001b[0m\u001b[0mplacement\u001b[0m\u001b[0;34m,\u001b[0m\u001b[0;34m\u001b[0m\u001b[0;34m\u001b[0m\u001b[0m\n",
      "\u001b[0;32m~/anaconda3/envs/main37/lib/python3.7/site-packages/pandas/core/internals/concat.py\u001b[0m in \u001b[0;36m_concatenate_join_units\u001b[0;34m(join_units, concat_axis, copy)\u001b[0m\n\u001b[1;32m    317\u001b[0m         \u001b[0mju\u001b[0m\u001b[0;34m.\u001b[0m\u001b[0mget_reindexed_values\u001b[0m\u001b[0;34m(\u001b[0m\u001b[0mempty_dtype\u001b[0m\u001b[0;34m=\u001b[0m\u001b[0mempty_dtype\u001b[0m\u001b[0;34m,\u001b[0m \u001b[0mupcasted_na\u001b[0m\u001b[0;34m=\u001b[0m\u001b[0mupcasted_na\u001b[0m\u001b[0;34m)\u001b[0m\u001b[0;34m\u001b[0m\u001b[0;34m\u001b[0m\u001b[0m\n\u001b[0;32m--> 318\u001b[0;31m         \u001b[0;32mfor\u001b[0m \u001b[0mju\u001b[0m \u001b[0;32min\u001b[0m \u001b[0mjoin_units\u001b[0m\u001b[0;34m\u001b[0m\u001b[0;34m\u001b[0m\u001b[0m\n\u001b[0m\u001b[1;32m    319\u001b[0m     ]\n",
      "\u001b[0;32m~/anaconda3/envs/main37/lib/python3.7/site-packages/pandas/core/internals/concat.py\u001b[0m in \u001b[0;36m<listcomp>\u001b[0;34m(.0)\u001b[0m\n\u001b[1;32m    317\u001b[0m         \u001b[0mju\u001b[0m\u001b[0;34m.\u001b[0m\u001b[0mget_reindexed_values\u001b[0m\u001b[0;34m(\u001b[0m\u001b[0mempty_dtype\u001b[0m\u001b[0;34m=\u001b[0m\u001b[0mempty_dtype\u001b[0m\u001b[0;34m,\u001b[0m \u001b[0mupcasted_na\u001b[0m\u001b[0;34m=\u001b[0m\u001b[0mupcasted_na\u001b[0m\u001b[0;34m)\u001b[0m\u001b[0;34m\u001b[0m\u001b[0;34m\u001b[0m\u001b[0m\n\u001b[0;32m--> 318\u001b[0;31m         \u001b[0;32mfor\u001b[0m \u001b[0mju\u001b[0m \u001b[0;32min\u001b[0m \u001b[0mjoin_units\u001b[0m\u001b[0;34m\u001b[0m\u001b[0;34m\u001b[0m\u001b[0m\n\u001b[0m\u001b[1;32m    319\u001b[0m     ]\n",
      "\u001b[0;32m~/anaconda3/envs/main37/lib/python3.7/site-packages/pandas/core/internals/concat.py\u001b[0m in \u001b[0;36mget_reindexed_values\u001b[0;34m(self, empty_dtype, upcasted_na)\u001b[0m\n\u001b[1;32m    300\u001b[0m             \u001b[0;32mfor\u001b[0m \u001b[0max\u001b[0m\u001b[0;34m,\u001b[0m \u001b[0mindexer\u001b[0m \u001b[0;32min\u001b[0m \u001b[0mself\u001b[0m\u001b[0;34m.\u001b[0m\u001b[0mindexers\u001b[0m\u001b[0;34m.\u001b[0m\u001b[0mitems\u001b[0m\u001b[0;34m(\u001b[0m\u001b[0;34m)\u001b[0m\u001b[0;34m:\u001b[0m\u001b[0;34m\u001b[0m\u001b[0;34m\u001b[0m\u001b[0m\n\u001b[0;32m--> 301\u001b[0;31m                 \u001b[0mvalues\u001b[0m \u001b[0;34m=\u001b[0m \u001b[0malgos\u001b[0m\u001b[0;34m.\u001b[0m\u001b[0mtake_nd\u001b[0m\u001b[0;34m(\u001b[0m\u001b[0mvalues\u001b[0m\u001b[0;34m,\u001b[0m \u001b[0mindexer\u001b[0m\u001b[0;34m,\u001b[0m \u001b[0maxis\u001b[0m\u001b[0;34m=\u001b[0m\u001b[0max\u001b[0m\u001b[0;34m,\u001b[0m \u001b[0mfill_value\u001b[0m\u001b[0;34m=\u001b[0m\u001b[0mfill_value\u001b[0m\u001b[0;34m)\u001b[0m\u001b[0;34m\u001b[0m\u001b[0;34m\u001b[0m\u001b[0m\n\u001b[0m\u001b[1;32m    302\u001b[0m \u001b[0;34m\u001b[0m\u001b[0m\n",
      "\u001b[0;32m~/anaconda3/envs/main37/lib/python3.7/site-packages/pandas/core/algorithms.py\u001b[0m in \u001b[0;36mtake_nd\u001b[0;34m(arr, indexer, axis, out, fill_value, allow_fill)\u001b[0m\n\u001b[1;32m   1682\u001b[0m     )\n\u001b[0;32m-> 1683\u001b[0;31m     \u001b[0mfunc\u001b[0m\u001b[0;34m(\u001b[0m\u001b[0marr\u001b[0m\u001b[0;34m,\u001b[0m \u001b[0mindexer\u001b[0m\u001b[0;34m,\u001b[0m \u001b[0mout\u001b[0m\u001b[0;34m,\u001b[0m \u001b[0mfill_value\u001b[0m\u001b[0;34m)\u001b[0m\u001b[0;34m\u001b[0m\u001b[0;34m\u001b[0m\u001b[0m\n\u001b[0m\u001b[1;32m   1684\u001b[0m \u001b[0;34m\u001b[0m\u001b[0m\n",
      "\u001b[0;31mKeyboardInterrupt\u001b[0m: ",
      "\nDuring handling of the above exception, another exception occurred:\n",
      "\u001b[0;31mAttributeError\u001b[0m                            Traceback (most recent call last)",
      "\u001b[0;32m~/anaconda3/envs/main37/lib/python3.7/site-packages/IPython/core/interactiveshell.py\u001b[0m in \u001b[0;36mshowtraceback\u001b[0;34m(self, exc_tuple, filename, tb_offset, exception_only, running_compiled_code)\u001b[0m\n\u001b[1;32m   2060\u001b[0m                         \u001b[0;31m# in the engines. This should return a list of strings.\u001b[0m\u001b[0;34m\u001b[0m\u001b[0;34m\u001b[0m\u001b[0;34m\u001b[0m\u001b[0m\n\u001b[0;32m-> 2061\u001b[0;31m                         \u001b[0mstb\u001b[0m \u001b[0;34m=\u001b[0m \u001b[0mvalue\u001b[0m\u001b[0;34m.\u001b[0m\u001b[0m_render_traceback_\u001b[0m\u001b[0;34m(\u001b[0m\u001b[0;34m)\u001b[0m\u001b[0;34m\u001b[0m\u001b[0;34m\u001b[0m\u001b[0m\n\u001b[0m\u001b[1;32m   2062\u001b[0m                     \u001b[0;32mexcept\u001b[0m \u001b[0mException\u001b[0m\u001b[0;34m:\u001b[0m\u001b[0;34m\u001b[0m\u001b[0;34m\u001b[0m\u001b[0m\n",
      "\u001b[0;31mAttributeError\u001b[0m: 'KeyboardInterrupt' object has no attribute '_render_traceback_'",
      "\nDuring handling of the above exception, another exception occurred:\n",
      "\u001b[0;31mTypeError\u001b[0m                                 Traceback (most recent call last)",
      "    \u001b[0;31m[... skipping hidden 1 frame]\u001b[0m\n",
      "\u001b[0;32m~/anaconda3/envs/main37/lib/python3.7/site-packages/IPython/core/interactiveshell.py\u001b[0m in \u001b[0;36mshowtraceback\u001b[0;34m(self, exc_tuple, filename, tb_offset, exception_only, running_compiled_code)\u001b[0m\n\u001b[1;32m   2062\u001b[0m                     \u001b[0;32mexcept\u001b[0m \u001b[0mException\u001b[0m\u001b[0;34m:\u001b[0m\u001b[0;34m\u001b[0m\u001b[0;34m\u001b[0m\u001b[0m\n\u001b[1;32m   2063\u001b[0m                         stb = self.InteractiveTB.structured_traceback(etype,\n\u001b[0;32m-> 2064\u001b[0;31m                                             value, tb, tb_offset=tb_offset)\n\u001b[0m\u001b[1;32m   2065\u001b[0m \u001b[0;34m\u001b[0m\u001b[0m\n\u001b[1;32m   2066\u001b[0m                     \u001b[0mself\u001b[0m\u001b[0;34m.\u001b[0m\u001b[0m_showtraceback\u001b[0m\u001b[0;34m(\u001b[0m\u001b[0metype\u001b[0m\u001b[0;34m,\u001b[0m \u001b[0mvalue\u001b[0m\u001b[0;34m,\u001b[0m \u001b[0mstb\u001b[0m\u001b[0;34m)\u001b[0m\u001b[0;34m\u001b[0m\u001b[0;34m\u001b[0m\u001b[0m\n",
      "\u001b[0;32m~/anaconda3/envs/main37/lib/python3.7/site-packages/IPython/core/ultratb.py\u001b[0m in \u001b[0;36mstructured_traceback\u001b[0;34m(self, etype, value, tb, tb_offset, number_of_lines_of_context)\u001b[0m\n\u001b[1;32m   1366\u001b[0m             \u001b[0mself\u001b[0m\u001b[0;34m.\u001b[0m\u001b[0mtb\u001b[0m \u001b[0;34m=\u001b[0m \u001b[0mtb\u001b[0m\u001b[0;34m\u001b[0m\u001b[0;34m\u001b[0m\u001b[0m\n\u001b[1;32m   1367\u001b[0m         return FormattedTB.structured_traceback(\n\u001b[0;32m-> 1368\u001b[0;31m             self, etype, value, tb, tb_offset, number_of_lines_of_context)\n\u001b[0m\u001b[1;32m   1369\u001b[0m \u001b[0;34m\u001b[0m\u001b[0m\n\u001b[1;32m   1370\u001b[0m \u001b[0;34m\u001b[0m\u001b[0m\n",
      "\u001b[0;32m~/anaconda3/envs/main37/lib/python3.7/site-packages/IPython/core/ultratb.py\u001b[0m in \u001b[0;36mstructured_traceback\u001b[0;34m(self, etype, value, tb, tb_offset, number_of_lines_of_context)\u001b[0m\n\u001b[1;32m   1266\u001b[0m             \u001b[0;31m# Verbose modes need a full traceback\u001b[0m\u001b[0;34m\u001b[0m\u001b[0;34m\u001b[0m\u001b[0;34m\u001b[0m\u001b[0m\n\u001b[1;32m   1267\u001b[0m             return VerboseTB.structured_traceback(\n\u001b[0;32m-> 1268\u001b[0;31m                 \u001b[0mself\u001b[0m\u001b[0;34m,\u001b[0m \u001b[0metype\u001b[0m\u001b[0;34m,\u001b[0m \u001b[0mvalue\u001b[0m\u001b[0;34m,\u001b[0m \u001b[0mtb\u001b[0m\u001b[0;34m,\u001b[0m \u001b[0mtb_offset\u001b[0m\u001b[0;34m,\u001b[0m \u001b[0mnumber_of_lines_of_context\u001b[0m\u001b[0;34m\u001b[0m\u001b[0;34m\u001b[0m\u001b[0m\n\u001b[0m\u001b[1;32m   1269\u001b[0m             )\n\u001b[1;32m   1270\u001b[0m         \u001b[0;32melif\u001b[0m \u001b[0mmode\u001b[0m \u001b[0;34m==\u001b[0m \u001b[0;34m'Minimal'\u001b[0m\u001b[0;34m:\u001b[0m\u001b[0;34m\u001b[0m\u001b[0;34m\u001b[0m\u001b[0m\n",
      "\u001b[0;32m~/anaconda3/envs/main37/lib/python3.7/site-packages/IPython/core/ultratb.py\u001b[0m in \u001b[0;36mstructured_traceback\u001b[0;34m(self, etype, evalue, etb, tb_offset, number_of_lines_of_context)\u001b[0m\n\u001b[1;32m   1123\u001b[0m \u001b[0;34m\u001b[0m\u001b[0m\n\u001b[1;32m   1124\u001b[0m         formatted_exception = self.format_exception_as_a_whole(etype, evalue, etb, number_of_lines_of_context,\n\u001b[0;32m-> 1125\u001b[0;31m                                                                tb_offset)\n\u001b[0m\u001b[1;32m   1126\u001b[0m \u001b[0;34m\u001b[0m\u001b[0m\n\u001b[1;32m   1127\u001b[0m         \u001b[0mcolors\u001b[0m \u001b[0;34m=\u001b[0m \u001b[0mself\u001b[0m\u001b[0;34m.\u001b[0m\u001b[0mColors\u001b[0m  \u001b[0;31m# just a shorthand + quicker name lookup\u001b[0m\u001b[0;34m\u001b[0m\u001b[0;34m\u001b[0m\u001b[0m\n",
      "\u001b[0;32m~/anaconda3/envs/main37/lib/python3.7/site-packages/IPython/core/ultratb.py\u001b[0m in \u001b[0;36mformat_exception_as_a_whole\u001b[0;34m(self, etype, evalue, etb, number_of_lines_of_context, tb_offset)\u001b[0m\n\u001b[1;32m   1080\u001b[0m \u001b[0;34m\u001b[0m\u001b[0m\n\u001b[1;32m   1081\u001b[0m \u001b[0;34m\u001b[0m\u001b[0m\n\u001b[0;32m-> 1082\u001b[0;31m         \u001b[0mlast_unique\u001b[0m\u001b[0;34m,\u001b[0m \u001b[0mrecursion_repeat\u001b[0m \u001b[0;34m=\u001b[0m \u001b[0mfind_recursion\u001b[0m\u001b[0;34m(\u001b[0m\u001b[0morig_etype\u001b[0m\u001b[0;34m,\u001b[0m \u001b[0mevalue\u001b[0m\u001b[0;34m,\u001b[0m \u001b[0mrecords\u001b[0m\u001b[0;34m)\u001b[0m\u001b[0;34m\u001b[0m\u001b[0;34m\u001b[0m\u001b[0m\n\u001b[0m\u001b[1;32m   1083\u001b[0m \u001b[0;34m\u001b[0m\u001b[0m\n\u001b[1;32m   1084\u001b[0m         \u001b[0mframes\u001b[0m \u001b[0;34m=\u001b[0m \u001b[0mself\u001b[0m\u001b[0;34m.\u001b[0m\u001b[0mformat_records\u001b[0m\u001b[0;34m(\u001b[0m\u001b[0mrecords\u001b[0m\u001b[0;34m,\u001b[0m \u001b[0mlast_unique\u001b[0m\u001b[0;34m,\u001b[0m \u001b[0mrecursion_repeat\u001b[0m\u001b[0;34m)\u001b[0m\u001b[0;34m\u001b[0m\u001b[0;34m\u001b[0m\u001b[0m\n",
      "\u001b[0;32m~/anaconda3/envs/main37/lib/python3.7/site-packages/IPython/core/ultratb.py\u001b[0m in \u001b[0;36mfind_recursion\u001b[0;34m(etype, value, records)\u001b[0m\n\u001b[1;32m    380\u001b[0m     \u001b[0;31m# first frame (from in to out) that looks different.\u001b[0m\u001b[0;34m\u001b[0m\u001b[0;34m\u001b[0m\u001b[0;34m\u001b[0m\u001b[0m\n\u001b[1;32m    381\u001b[0m     \u001b[0;32mif\u001b[0m \u001b[0;32mnot\u001b[0m \u001b[0mis_recursion_error\u001b[0m\u001b[0;34m(\u001b[0m\u001b[0metype\u001b[0m\u001b[0;34m,\u001b[0m \u001b[0mvalue\u001b[0m\u001b[0;34m,\u001b[0m \u001b[0mrecords\u001b[0m\u001b[0;34m)\u001b[0m\u001b[0;34m:\u001b[0m\u001b[0;34m\u001b[0m\u001b[0;34m\u001b[0m\u001b[0m\n\u001b[0;32m--> 382\u001b[0;31m         \u001b[0;32mreturn\u001b[0m \u001b[0mlen\u001b[0m\u001b[0;34m(\u001b[0m\u001b[0mrecords\u001b[0m\u001b[0;34m)\u001b[0m\u001b[0;34m,\u001b[0m \u001b[0;36m0\u001b[0m\u001b[0;34m\u001b[0m\u001b[0;34m\u001b[0m\u001b[0m\n\u001b[0m\u001b[1;32m    383\u001b[0m \u001b[0;34m\u001b[0m\u001b[0m\n\u001b[1;32m    384\u001b[0m     \u001b[0;31m# Select filename, lineno, func_name to track frames with\u001b[0m\u001b[0;34m\u001b[0m\u001b[0;34m\u001b[0m\u001b[0;34m\u001b[0m\u001b[0m\n",
      "\u001b[0;31mTypeError\u001b[0m: object of type 'NoneType' has no len()"
     ]
    }
   ],
   "source": [
    "df_intermediate = df_calendar.merge(df_sell_prices, how='left', on='wm_yr_wk')"
   ]
  },
  {
   "cell_type": "code",
   "execution_count": null,
   "id": "a82ee682",
   "metadata": {},
   "outputs": [],
   "source": [
    "print(df_intermediate.head(10))\n",
    "print(sys.getsizeof(df_intermediate))"
   ]
  },
  {
   "cell_type": "code",
   "execution_count": null,
   "id": "e30afe5c",
   "metadata": {},
   "outputs": [],
   "source": [
    "days = ['d_' + str(i) for i in range(1, 1914)]\n",
    "df_sales_train_validation_pivot = pd.melt(df_sales_train_validation, id_vars=['item_id', 'dept_id', 'cat_id', 'store_id', 'state_id'], value_vars=days, var_name='d', value_name='unit_sales')\n",
    "print(df_sales_train_validation_pivot.head(10))\n",
    "print(df_sales_train_validation_pivot.size)"
   ]
  },
  {
   "cell_type": "code",
   "execution_count": null,
   "id": "1f405430",
   "metadata": {},
   "outputs": [],
   "source": [
    "df_stvp_item = df_sales_train_validation_pivot[df_sales_train_validation_pivot.item_id == 'FOODS_3_069']\n",
    "df_intermediate_item = df_intermediate[df_intermediate.item_id == 'FOODS_3_069']"
   ]
  },
  {
   "cell_type": "code",
   "execution_count": null,
   "id": "e6dfd4c1",
   "metadata": {},
   "outputs": [],
   "source": [
    "cols_to_use = df_intermediate_item.columns.difference(df_stvp_item.columns).tolist()\n",
    "cols_to_use = cols_to_use + ['item_id', 'd', 'store_id']\n",
    "df_merged = df_stvp_item.merge(df_intermediate_item[cols_to_use], how='inner', on=['item_id', 'd', 'store_id'])\n",
    "df_merged.to_csv('df_merged.csv')\n",
    "print(df_merged.head(10))\n",
    "print(df_merged.columns)"
   ]
  },
  {
   "cell_type": "markdown",
   "id": "military-attack",
   "metadata": {},
   "source": [
    "### Analyze single store and single item sales"
   ]
  },
  {
   "cell_type": "code",
   "execution_count": null,
   "id": "2952d70f",
   "metadata": {},
   "outputs": [],
   "source": [
    "df_merged_store = df_merged[df_merged.store_id == 'TX_1']\n",
    "df_merged_store.reset_index(drop=True, inplace=True)\n",
    "df_merged_store['unit_sales_avg'] = df_merged_store['unit_sales'].rolling(7).mean()\n",
    "print(df_merged_store.head(5))\n",
    "\n",
    "fig = px.line(df_merged_store, x='d', y='unit_sales_avg', color='store_id')\n",
    "fig.show()"
   ]
  },
  {
   "cell_type": "code",
   "execution_count": null,
   "id": "addressed-lying",
   "metadata": {},
   "outputs": [],
   "source": [
    "print(df_merged_store.head(10))\n",
    "date = pd.PeriodIndex(df_merged_store['date'], freq=\"D\")\n",
    "df_merged_store['date'] = date\n",
    "df_merged_store.set_index('date', inplace=True)\n",
    "\n",
    "fourier = CalendarFourier(freq='A', order=4)\n",
    "dp = DeterministicProcess(index=df_merged_store.index,\n",
    "                                    constant=True,\n",
    "                                    order=1,\n",
    "                                    seasonal=True,\n",
    "                                    additional_terms=[fourier],\n",
    "                                    drop=True)"
   ]
  },
  {
   "cell_type": "markdown",
   "id": "middle-sensitivity",
   "metadata": {},
   "source": [
    "### Find foods that sell more on holidays"
   ]
  },
  {
   "cell_type": "code",
   "execution_count": null,
   "id": "adjusted-russell",
   "metadata": {},
   "outputs": [],
   "source": [
    "df_stvp_foods = df_sales_train_validation_pivot[df_sales_train_validation_pivot.cat_id == 'FOODS']\n",
    "df_stvp_foods = df_stvp_foods.groupby(by=['d', 'item_id'], axis=0, as_index=False).mean()\n",
    "print(df_stvp_foods.size)\n",
    "print(df_stvp_foods.head(5))"
   ]
  },
  {
   "cell_type": "code",
   "execution_count": null,
   "id": "eleven-screen",
   "metadata": {},
   "outputs": [],
   "source": [
    "df_merged = df_stvp_foods.merge(df_calendar, how='left', on='d')\n",
    "print(df_merged.head(10))\n",
    "print(df_merged.columns)"
   ]
  },
  {
   "cell_type": "code",
   "execution_count": null,
   "id": "civilian-roommate",
   "metadata": {},
   "outputs": [],
   "source": [
    "df_mean_sales_by_event = df_merged.groupby(by=['item_id', 'event_name_1'], axis=0, dropna=False, as_index=False).mean()\n",
    "df_mean_sales_by_event.to_csv('df_mean_sales_by_event.csv')\n",
    "print(df_mean_sales_by_event.head(5))"
   ]
  },
  {
   "cell_type": "code",
   "execution_count": null,
   "id": "increasing-characterization",
   "metadata": {},
   "outputs": [],
   "source": [
    "df_mean_sales_by_event_pivot = df_mean_sales_by_event.pivot(index='item_id', columns='event_name_1', values='unit_sales')\n",
    "df_mean_sales_by_event_pivot.rename(columns={df_mean_sales_by_event_pivot.columns[0]: 'None'}, inplace=True)\n",
    "print(df_mean_sales_by_event_pivot.head(5))"
   ]
  },
  {
   "cell_type": "code",
   "execution_count": null,
   "id": "worthy-packing",
   "metadata": {},
   "outputs": [],
   "source": [
    "pd.set_option(\"display.max_columns\", None)\n",
    "df_sales_ratio_by_event = df_mean_sales_by_event_pivot.div(df_mean_sales_by_event_pivot['None'], axis=0)\n",
    "df_sales_ratio_by_event.sort_values('Thanksgiving', axis=0, ascending=False, inplace=True)\n",
    "print(df_sales_ratio_by_event.head(5))"
   ]
  },
  {
   "cell_type": "code",
   "execution_count": null,
   "id": "animated-effort",
   "metadata": {},
   "outputs": [],
   "source": [
    "df_sales_ratio_by_event.sort_values('ValentinesDay', axis=0, ascending=False, inplace=True)\n",
    "print(df_sales_ratio_by_event.head(5))"
   ]
  },
  {
   "cell_type": "code",
   "execution_count": 13,
   "id": "local-western",
   "metadata": {},
   "outputs": [
    {
     "name": "stdout",
     "output_type": "stream",
     "text": [
      "    names  ages\n",
      "1  Steven    32\n",
      "2   Kevin    29\n"
     ]
    }
   ],
   "source": [
    "names = ['Ben', 'Steven', 'Kevin', 'Ying']\n",
    "ages = [39, 32, 29, 45]\n",
    "df = pd.DataFrame({'names':names, 'ages':ages})\n",
    "print(df.iloc[-3:-1, :])"
   ]
  },
  {
   "cell_type": "code",
   "execution_count": null,
   "id": "dfad44fc",
   "metadata": {},
   "outputs": [],
   "source": []
  }
 ],
 "metadata": {
  "kernelspec": {
   "display_name": "Python (main37)",
   "language": "python",
   "name": "main37"
  },
  "language_info": {
   "codemirror_mode": {
    "name": "ipython",
    "version": 3
   },
   "file_extension": ".py",
   "mimetype": "text/x-python",
   "name": "python",
   "nbconvert_exporter": "python",
   "pygments_lexer": "ipython3",
   "version": "3.7.9"
  }
 },
 "nbformat": 4,
 "nbformat_minor": 5
}
